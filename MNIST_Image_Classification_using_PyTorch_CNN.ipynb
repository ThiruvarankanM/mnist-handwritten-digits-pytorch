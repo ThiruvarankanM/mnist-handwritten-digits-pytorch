{
  "nbformat": 4,
  "nbformat_minor": 0,
  "metadata": {
    "colab": {
      "provenance": [],
      "gpuType": "T4",
      "include_colab_link": true
    },
    "kernelspec": {
      "name": "python3",
      "display_name": "Python 3"
    },
    "language_info": {
      "name": "python"
    },
    "accelerator": "GPU"
  },
  "cells": [
    {
      "cell_type": "markdown",
      "metadata": {
        "id": "view-in-github",
        "colab_type": "text"
      },
      "source": [
        "<a href=\"https://colab.research.google.com/github/ThiruvarankanM/mnist-handwritten-digits-pytorch/blob/main/MNIST_Image_Classification_using_PyTorch_CNN.ipynb\" target=\"_parent\"><img src=\"https://colab.research.google.com/assets/colab-badge.svg\" alt=\"Open In Colab\"/></a>"
      ]
    },
    {
      "cell_type": "markdown",
      "source": [
        "# MNIST Image Classification using PyTorch CNN\n",
        "\n",
        "This notebook demonstrates building, training, and evaluating a Convolutional Neural Network (CNN) on the MNIST dataset using PyTorch.\n",
        "\n",
        "We will go step by step:\n",
        "1. Import dependencies\n",
        "2. Load and explore the dataset\n",
        "3. Build a CNN model\n",
        "4. Train the model\n",
        "5. Evaluate the model\n",
        "6. Save and load the trained model\n",
        "7. Make predictions on new images"
      ],
      "metadata": {
        "id": "5g2U1HHeEaih"
      }
    },
    {
      "cell_type": "markdown",
      "source": [
        "# 1️⃣ Import Dependencies"
      ],
      "metadata": {
        "id": "PZQU92bTElGG"
      }
    },
    {
      "cell_type": "code",
      "execution_count": 1,
      "metadata": {
        "id": "3qQS15IbEaBA"
      },
      "outputs": [],
      "source": [
        "import torch\n",
        "from torch import nn, save, load\n",
        "from torch.optim import Adam\n",
        "from torch.utils.data import DataLoader\n",
        "from torchvision import datasets\n",
        "from torchvision.transforms import ToTensor\n",
        "from PIL import Image\n",
        "import matplotlib.pyplot as plt"
      ]
    },
    {
      "cell_type": "markdown",
      "source": [
        "# 2️⃣ Load and Explore the MNIST Dataset"
      ],
      "metadata": {
        "id": "qUKIU29DEpfn"
      }
    },
    {
      "cell_type": "code",
      "source": [
        "# Download MNIST dataset (handwritten digits 0-9)\n",
        "train_data = datasets.MNIST(root=\"data\", train=True, download=True, transform=ToTensor())\n",
        "test_data = datasets.MNIST(root=\"data\", train=False, download=True, transform=ToTensor())\n",
        "\n",
        "# Wrap datasets in DataLoader for batching\n",
        "train_loader = DataLoader(train_data, batch_size=32, shuffle=True)\n",
        "test_loader = DataLoader(test_data, batch_size=32, shuffle=False)\n"
      ],
      "metadata": {
        "id": "8lj603V4EoyT",
        "colab": {
          "base_uri": "https://localhost:8080/"
        },
        "outputId": "5fd419d0-2a85-470f-a011-0d984669e460"
      },
      "execution_count": 2,
      "outputs": [
        {
          "output_type": "stream",
          "name": "stderr",
          "text": [
            "100%|██████████| 9.91M/9.91M [00:00<00:00, 16.9MB/s]\n",
            "100%|██████████| 28.9k/28.9k [00:00<00:00, 495kB/s]\n",
            "100%|██████████| 1.65M/1.65M [00:00<00:00, 4.69MB/s]\n",
            "100%|██████████| 4.54k/4.54k [00:00<00:00, 7.67MB/s]\n"
          ]
        }
      ]
    },
    {
      "cell_type": "code",
      "source": [
        "# Check shape of a sample\n",
        "sample_img, sample_label = train_data[0]\n",
        "print(\"Image shape:\", sample_img.shape)\n",
        "print(\"Label:\", sample_label)"
      ],
      "metadata": {
        "colab": {
          "base_uri": "https://localhost:8080/"
        },
        "id": "mUvMmIxJE0W6",
        "outputId": "6810de55-2625-4261-97e7-80393be44a90"
      },
      "execution_count": 3,
      "outputs": [
        {
          "output_type": "stream",
          "name": "stdout",
          "text": [
            "Image shape: torch.Size([1, 28, 28])\n",
            "Label: 5\n"
          ]
        }
      ]
    },
    {
      "cell_type": "code",
      "source": [
        "# Display a sample image\n",
        "plt.imshow(sample_img.squeeze(), cmap='gray')\n",
        "plt.title(f\"Label: {sample_label}\")\n",
        "plt.axis('off')\n",
        "plt.show()"
      ],
      "metadata": {
        "colab": {
          "base_uri": "https://localhost:8080/",
          "height": 428
        },
        "id": "etAe7UWKEu0g",
        "outputId": "8d6acfc5-c954-49a7-b39a-1a68e2693b6f"
      },
      "execution_count": 4,
      "outputs": [
        {
          "output_type": "display_data",
          "data": {
            "text/plain": [
              "<Figure size 640x480 with 1 Axes>"
            ],
            "image/png": "[encoded data removed]"
          },
          "metadata": {}
        }
      ]
    },
    {
      "cell_type": "markdown",
      "source": [
        "# 3️⃣ Build the Convolutional Neural Network"
      ],
      "metadata": {
        "id": "gpTZiiI4FArt"
      }
    },
    {
      "cell_type": "code",
      "source": [
        "\n",
        "class ImageClassifier(nn.Module):\n",
        "    def __init__(self):\n",
        "        super().__init__()\n",
        "        self.model = nn.Sequential(\n",
        "            nn.Conv2d(1, 32, kernel_size=3), # input 1 channel, output 32 channels\n",
        "            nn.ReLU(),\n",
        "            nn.Conv2d(32, 64, kernel_size=3),\n",
        "            nn.ReLU(),\n",
        "            nn.Conv2d(64, 64, kernel_size=3),\n",
        "            nn.ReLU(),\n",
        "            nn.Flatten(),\n",
        "            nn.Linear(64*(28-6)*(28-6), 10) # 10 classes (digits 0-9)\n",
        "        )\n",
        "\n",
        "    def forward(self, x):\n",
        "        return self.model(x)"
      ],
      "metadata": {
        "id": "9OAq4PWOE8ed"
      },
      "execution_count": 5,
      "outputs": []
    },
    {
      "cell_type": "code",
      "source": [
        "# Instantiate the model\n",
        "device = 'cuda' if torch.cuda.is_available() else 'cpu'\n",
        "clf = ImageClassifier().to(device)\n",
        "print(clf)"
      ],
      "metadata": {
        "id": "yAdL2pL8FEZv",
        "colab": {
          "base_uri": "https://localhost:8080/"
        },
        "outputId": "89b6c3d5-6498-4fc4-a52b-7be46084273c"
      },
      "execution_count": 6,
      "outputs": [
        {
          "output_type": "stream",
          "name": "stdout",
          "text": [
            "ImageClassifier(\n",
            "  (model): Sequential(\n",
            "    (0): Conv2d(1, 32, kernel_size=(3, 3), stride=(1, 1))\n",
            "    (1): ReLU()\n",
            "    (2): Conv2d(32, 64, kernel_size=(3, 3), stride=(1, 1))\n",
            "    (3): ReLU()\n",
            "    (4): Conv2d(64, 64, kernel_size=(3, 3), stride=(1, 1))\n",
            "    (5): ReLU()\n",
            "    (6): Flatten(start_dim=1, end_dim=-1)\n",
            "    (7): Linear(in_features=30976, out_features=10, bias=True)\n",
            "  )\n",
            ")\n"
          ]
        }
      ]
    },
    {
      "cell_type": "markdown",
      "source": [
        "# 4️⃣ Define Loss Function and Optimizer"
      ],
      "metadata": {
        "id": "H5dfalgLFpoy"
      }
    },
    {
      "cell_type": "code",
      "source": [
        "loss_fn = nn.CrossEntropyLoss()   # suitable for classification\n",
        "optimizer = Adam(clf.parameters(), lr=1e-3)"
      ],
      "metadata": {
        "id": "crLys8zaFmIF"
      },
      "execution_count": 7,
      "outputs": []
    },
    {
      "cell_type": "markdown",
      "source": [
        "# 5️⃣ Training Loop"
      ],
      "metadata": {
        "id": "jkUbvhMRFu-e"
      }
    },
    {
      "cell_type": "code",
      "source": [
        "epochs = 10\n",
        "for epoch in range(epochs):\n",
        "    running_loss = 0\n",
        "    for batch in train_loader:\n",
        "        X, y = batch\n",
        "        X, y = X.to(device), y.to(device)\n",
        "\n",
        "        # Forward pass\n",
        "        yhat = clf(X)\n",
        "        loss = loss_fn(yhat, y)\n",
        "\n",
        "        # Backward pass\n",
        "        optimizer.zero_grad()\n",
        "        loss.backward()\n",
        "        optimizer.step()\n",
        "\n",
        "        running_loss += loss.item()\n",
        "\n",
        "    print(f\"Epoch {epoch+1}/{epochs} | Loss: {running_loss/len(train_loader):.4f}\")\n"
      ],
      "metadata": {
        "colab": {
          "base_uri": "https://localhost:8080/"
        },
        "id": "nxch5DUAFtS8",
        "outputId": "cfa7f460-4de2-4b45-fa8e-81624c2c9737"
      },
      "execution_count": 8,
      "outputs": [
        {
          "output_type": "stream",
          "name": "stdout",
          "text": [
            "Epoch 1/10 | Loss: 0.1200\n",
            "Epoch 2/10 | Loss: 0.0411\n",
            "Epoch 3/10 | Loss: 0.0267\n",
            "Epoch 4/10 | Loss: 0.0181\n",
            "Epoch 5/10 | Loss: 0.0127\n",
            "Epoch 6/10 | Loss: 0.0100\n",
            "Epoch 7/10 | Loss: 0.0082\n",
            "Epoch 8/10 | Loss: 0.0064\n",
            "Epoch 9/10 | Loss: 0.0058\n",
            "Epoch 10/10 | Loss: 0.0029\n"
          ]
        }
      ]
    },
    {
      "cell_type": "markdown",
      "source": [
        "# 6️⃣ Evaluate the Model on Test Data"
      ],
      "metadata": {
        "id": "eg8VqCiMGPTe"
      }
    },
    {
      "cell_type": "code",
      "source": [
        "clf.eval()  # set model to evaluation mode\n",
        "correct = 0\n",
        "total = 0\n",
        "\n",
        "with torch.no_grad():\n",
        "    for X, y in test_loader:\n",
        "        X, y = X.to(device), y.to(device)\n",
        "        yhat = clf(X)\n",
        "        preds = torch.argmax(yhat, dim=1)\n",
        "        correct += (preds == y).sum().item()\n",
        "        total += y.size(0)\n",
        "\n",
        "accuracy = correct / total\n",
        "print(f\"Test Accuracy: {accuracy*100:.2f}%\")\n"
      ],
      "metadata": {
        "colab": {
          "base_uri": "https://localhost:8080/"
        },
        "id": "Sr7wmZSkGNWx",
        "outputId": "7ad2ea02-6a27-460e-c7e1-7b34eed39199"
      },
      "execution_count": 9,
      "outputs": [
        {
          "output_type": "stream",
          "name": "stdout",
          "text": [
            "Test Accuracy: 98.83%\n"
          ]
        }
      ]
    },
    {
      "cell_type": "markdown",
      "source": [
        "# 7️⃣ Save and Load the Model"
      ],
      "metadata": {
        "id": "hNwv3MwnGWcg"
      }
    },
    {
      "cell_type": "code",
      "source": [
        "# Save model weights\n",
        "torch.save(clf.state_dict(), 'mnist_cnn_model.pt')\n",
        "\n",
        "# Load model weights\n",
        "clf_loaded = ImageClassifier().to(device)\n",
        "clf_loaded.load_state_dict(torch.load('mnist_cnn_model.pt'))\n",
        "clf_loaded.eval()\n"
      ],
      "metadata": {
        "colab": {
          "base_uri": "https://localhost:8080/"
        },
        "id": "j6qOzbB7GUqL",
        "outputId": "4aa07da2-6562-467e-bcc4-ad9f9076d6af"
      },
      "execution_count": 10,
      "outputs": [
        {
          "output_type": "execute_result",
          "data": {
            "text/plain": [
              "ImageClassifier(\n",
              "  (model): Sequential(\n",
              "    (0): Conv2d(1, 32, kernel_size=(3, 3), stride=(1, 1))\n",
              "    (1): ReLU()\n",
              "    (2): Conv2d(32, 64, kernel_size=(3, 3), stride=(1, 1))\n",
              "    (3): ReLU()\n",
              "    (4): Conv2d(64, 64, kernel_size=(3, 3), stride=(1, 1))\n",
              "    (5): ReLU()\n",
              "    (6): Flatten(start_dim=1, end_dim=-1)\n",
              "    (7): Linear(in_features=30976, out_features=10, bias=True)\n",
              "  )\n",
              ")"
            ]
          },
          "metadata": {},
          "execution_count": 10
        }
      ]
    },
    {
      "cell_type": "markdown",
      "source": [
        "# 8️⃣ Predict on a New Image"
      ],
      "metadata": {
        "id": "K8TsHONIGu-z"
      }
    },
    {
      "cell_type": "code",
      "source": [
        "# Load an image (grayscale, 28x28)\n",
        "img = Image.open('sample_image.jpg').convert('L')  # convert to grayscale\n",
        "img_tensor = ToTensor()(img).unsqueeze(0).to(device)  # add batch dimension\n",
        "\n",
        "# Prediction\n",
        "with torch.no_grad():\n",
        "    pred = torch.argmax(clf_loaded(img_tensor))\n",
        "print(f\"Predicted label: {pred.item()}\")\n"
      ],
      "metadata": {
        "colab": {
          "base_uri": "https://localhost:8080/"
        },
        "id": "Y64P6fGJGs_d",
        "outputId": "d731e81e-17c7-492c-86db-47c9403318ee"
      },
      "execution_count": 13,
      "outputs": [
        {
          "output_type": "stream",
          "name": "stdout",
          "text": [
            "Predicted label: 9\n"
          ]
        }
      ]
    }
  ]
}